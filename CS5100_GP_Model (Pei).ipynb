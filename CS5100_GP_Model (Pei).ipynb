{
  "cells": [
    {
      "cell_type": "markdown",
      "metadata": {
        "id": "jkVjiAttgEyy"
      },
      "source": [
        "# Global Income Prediction"
      ]
    },
    {
      "cell_type": "markdown",
      "metadata": {
        "id": "b7drqGl3JqOq"
      },
      "source": [
        "## Imports"
      ]
    },
    {
      "cell_type": "code",
      "execution_count": null,
      "metadata": {
        "id": "sg5ojtlEgUA3"
      },
      "outputs": [],
      "source": [
        "import os\n",
        "import sys\n",
        "import numpy as np\n",
        "import pandas as pd\n",
        "from matplotlib import pyplot as plt\n",
        "import seaborn as sns\n",
        "from sklearn.preprocessing import StandardScaler\n",
        "from sklearn.linear_model import LogisticRegression\n",
        "from sklearn.svm import SVR\n",
        "from sklearn.model_selection import train_test_split, GridSearchCV\n",
        "from sklearn import metrics\n",
        "from sklearn.metrics import r2_score\n",
        "from sklearn.metrics import mean_absolute_error\n",
        "from sklearn.metrics import classification_report, confusion_matrix, accuracy_score, precision_score, recall_score,f1_score"
      ]
    },
    {
      "cell_type": "markdown",
      "metadata": {
        "id": "So8v09G_JseG"
      },
      "source": [
        "## Data Preparation"
      ]
    },
    {
      "cell_type": "code",
      "execution_count": null,
      "metadata": {
        "id": "9IJTOKrhgW1R"
      },
      "outputs": [],
      "source": [
        "# CURRENT_DIR = os.path.abspath(os.path.dirname(__name__))\n",
        "# DATA_DIR = os.path.join(CURRENT_DIR, 'data')\n",
        "TRAIN_DATA_FILE = os.path.join('/data', 'adult.data')"
      ]
    },
    {
      "cell_type": "code",
      "execution_count": null,
      "metadata": {
        "colab": {
          "base_uri": "https://localhost:8080/"
        },
        "id": "A0XdeFeYMLIr",
        "outputId": "c0fc0b33-5b47-4f43-d3d0-374a151da8ed"
      },
      "outputs": [
        {
          "name": "stdout",
          "output_type": "stream",
          "text": [
            "/data/adult.data\n"
          ]
        }
      ],
      "source": [
        "print(TRAIN_DATA_FILE)"
      ]
    },
    {
      "cell_type": "code",
      "execution_count": null,
      "metadata": {
        "id": "23LEH24QiDWo"
      },
      "outputs": [],
      "source": [
        "# Organize data into respective categories\n",
        "from collections import OrderedDict\n",
        "\n",
        "data_types = OrderedDict([\n",
        "    (\"age\", \"int\"),\n",
        "    (\"workclass\", \"category\"),\n",
        "    (\"final_weight\", \"int\"),  # originally it was called fnlwgt\n",
        "    (\"education\", \"category\"),\n",
        "    (\"education_num\", \"int\"),\n",
        "    (\"marital_status\", \"category\"),\n",
        "    (\"occupation\", \"category\"),\n",
        "    (\"relationship\", \"category\"),\n",
        "    (\"race\", \"category\"),\n",
        "    (\"sex\", \"category\"),\n",
        "    (\"capital_gain\", \"float\"),  # required because of NaN values\n",
        "    (\"capital_loss\", \"int\"),\n",
        "    (\"hours_per_week\", \"int\"),\n",
        "    (\"native_country\", \"category\"),\n",
        "    (\"income_class\", \"category\"),\n",
        "])\n",
        "target_column = \"income_class\""
      ]
    },
    {
      "cell_type": "code",
      "execution_count": null,
      "metadata": {
        "id": "V6Xi6GHviOng"
      },
      "outputs": [],
      "source": [
        "def read_dataset(path):\n",
        "    return pd.read_csv(\n",
        "        path,\n",
        "        names=data_types,\n",
        "        index_col=None,\n",
        "\n",
        "        comment='|',  # test dataset has comment in it\n",
        "        skipinitialspace=True,  # Skip spaces after delimiter\n",
        "        na_values={\n",
        "            'capital_gain': 99999,\n",
        "            'workclass': '?',\n",
        "            'native_country': '?',\n",
        "            'occupation': '?',\n",
        "        },\n",
        "        dtype=data_types,\n",
        "    )\n",
        "\n",
        "def clean_dataset(data):\n",
        "    # Test dataset has dot at the end, we remove it in order\n",
        "    # to unify names between training and test datasets.\n",
        "    data['income_class'] = data.income_class.str.rstrip('.').astype('category')\n",
        "    \n",
        "    # Remove final weight column since there is no use\n",
        "    # for it during the classification.\n",
        "    data = data.drop('final_weight', axis=1)\n",
        "    \n",
        "    # Duplicates might create biases during the analysis and\n",
        "    # during prediction stage they might give over-optimistic\n",
        "    # (or pessimistic) results.\n",
        "    data = data.drop_duplicates()\n",
        "    \n",
        "    # Binarize target variable (>50K == 1 and <=50K == 0)\n",
        "    data[target_column] = (data[target_column] == '>50K').astype(int)\n",
        "\n",
        "    return data"
      ]
    },
    {
      "cell_type": "code",
      "execution_count": null,
      "metadata": {
        "id": "iTll9182Be64"
      },
      "outputs": [],
      "source": [
        "data = clean_dataset(read_dataset(TRAIN_DATA_FILE))\n",
        "\n",
        "\n",
        "print(\"Percent of the positive classes in the training data: {:.2%}\".format(np.mean(data.income_class)))"
      ]
    },
    {
      "cell_type": "code",
      "execution_count": null,
      "metadata": {
        "id": "NYVyedEHNP75"
      },
      "outputs": [],
      "source": [
        "# Alternatively, we can upload adult.data onto colab and run the following code\n",
        "data = clean_dataset(pd.read_csv(\n",
        "        'adult.data',\n",
        "        names=data_types,\n",
        "        index_col=None,\n",
        "\n",
        "        comment='|',  # test dataset has comment in it\n",
        "        skipinitialspace=True,  # Skip spaces after delimiter\n",
        "        na_values={\n",
        "            'capital_gain': 99999,\n",
        "            'workclass': '?',\n",
        "            'native_country': '?',\n",
        "            'occupation': '?',\n",
        "        },\n",
        "        dtype=data_types,\n",
        "    ))"
      ]
    },
    {
      "cell_type": "code",
      "execution_count": null,
      "metadata": {
        "colab": {
          "base_uri": "https://localhost:8080/",
          "height": 169
        },
        "id": "6UqeZJFZigyL",
        "outputId": "b55831e8-0fa4-4a79-947b-9bd08b88ce72"
      },
      "outputs": [
        {
          "ename": "NameError",
          "evalue": "ignored",
          "output_type": "error",
          "traceback": [
            "\u001b[0;31m---------------------------------------------------------------------------\u001b[0m",
            "\u001b[0;31mNameError\u001b[0m                                 Traceback (most recent call last)",
            "\u001b[0;32m<ipython-input-7-6208d269f320>\u001b[0m in \u001b[0;36m<module>\u001b[0;34m\u001b[0m\n\u001b[0;32m----> 1\u001b[0;31m \u001b[0mdata\u001b[0m\u001b[0;34m.\u001b[0m\u001b[0minfo\u001b[0m\u001b[0;34m(\u001b[0m\u001b[0;34m)\u001b[0m\u001b[0;34m\u001b[0m\u001b[0;34m\u001b[0m\u001b[0m\n\u001b[0m",
            "\u001b[0;31mNameError\u001b[0m: name 'data' is not defined"
          ]
        }
      ],
      "source": [
        "data.info()"
      ]
    },
    {
      "cell_type": "code",
      "execution_count": null,
      "metadata": {
        "colab": {
          "base_uri": "https://localhost:8080/",
          "height": 169
        },
        "id": "MV2GucRKitaI",
        "outputId": "87f99930-a8b0-4330-c172-960b2657f566"
      },
      "outputs": [
        {
          "ename": "NameError",
          "evalue": "ignored",
          "output_type": "error",
          "traceback": [
            "\u001b[0;31m---------------------------------------------------------------------------\u001b[0m",
            "\u001b[0;31mNameError\u001b[0m                                 Traceback (most recent call last)",
            "\u001b[0;32m<ipython-input-8-304fa4ce4ebd>\u001b[0m in \u001b[0;36m<module>\u001b[0;34m\u001b[0m\n\u001b[0;32m----> 1\u001b[0;31m \u001b[0mdata\u001b[0m\u001b[0;34m.\u001b[0m\u001b[0mhead\u001b[0m\u001b[0;34m(\u001b[0m\u001b[0;34m)\u001b[0m\u001b[0;34m\u001b[0m\u001b[0;34m\u001b[0m\u001b[0m\n\u001b[0m",
            "\u001b[0;31mNameError\u001b[0m: name 'data' is not defined"
          ]
        }
      ],
      "source": [
        "data.head()"
      ]
    },
    {
      "cell_type": "code",
      "execution_count": null,
      "metadata": {
        "colab": {
          "background_save": true
        },
        "id": "8j-AP-uulWFp",
        "outputId": "73f0e4f0-8ecc-4525-c748-a0a559ccd893"
      },
      "outputs": [
        {
          "data": {
            "image/png": "[encoded data removed]",
            "text/plain": [
              "<Figure size 720x576 with 2 Axes>"
            ]
          },
          "metadata": {},
          "output_type": "display_data"
        }
      ],
      "source": [
        "# Generate heap map for df\n",
        "fig, ax = plt.subplots(figsize=(10, 8))\n",
        "dataplot = sns.heatmap(data.corr(),annot=True)\n",
        "plt.show()"
      ]
    },
    {
      "cell_type": "markdown",
      "metadata": {
        "id": "fixtAYl4JxLN"
      },
      "source": [
        "## Linear Model"
      ]
    },
    {
      "cell_type": "markdown",
      "metadata": {
        "id": "McVL6DVjixeS"
      },
      "source": [
        "<div>With Only numerical features</div>\n",
        "<div> We can start off with only a couple of numerical features, which is easy to apply and don't require extra data transformations.\n",
        "</div>\n"
      ]
    },
    {
      "cell_type": "markdown",
      "metadata": {
        "id": "xXWRmXuTLeFg"
      },
      "source": [
        "### Logistic Regression with 3 features"
      ]
    },
    {
      "cell_type": "code",
      "execution_count": null,
      "metadata": {
        "colab": {
          "background_save": true
        },
        "id": "YAwjEf0PivwJ"
      },
      "outputs": [],
      "source": [
        "# Select 3 numerical features for our model\n",
        "features = [\n",
        "    'age',\n",
        "    'education_num',\n",
        "    'hours_per_week'\n",
        "]"
      ]
    },
    {
      "cell_type": "code",
      "execution_count": null,
      "metadata": {
        "id": "1ybK8cW3jw7T"
      },
      "outputs": [],
      "source": [
        "# data processing - dropping other data column\n",
        "\n",
        "X1 = data.copy(deep=True)\n",
        "\n",
        "for i in X1:\n",
        "    if i not in features:\n",
        "        # print(i)\n",
        "        X1 = X1.drop([i], axis =1)\n",
        "        \n",
        "y1 = data.income_class\n",
        "X1"
      ]
    },
    {
      "cell_type": "code",
      "execution_count": null,
      "metadata": {
        "id": "ayi5dKhHjylv"
      },
      "outputs": [],
      "source": [
        "#perform train and test data splits using y and X\n",
        "X_train, X_test, y_train, y_test = train_test_split(X1, y1, test_size=0.2, random_state=1)\n",
        "# confirm we have the right number of train and test data set\n",
        "print( len(X_train), len(X_test), len(y_train), len(y_test) )"
      ]
    },
    {
      "cell_type": "code",
      "execution_count": null,
      "metadata": {
        "id": "AcZ0Ae1yj0V8"
      },
      "outputs": [],
      "source": [
        "# Standardize data to make models coeficients interpratable. \n",
        "sc = StandardScaler()\n",
        "X_train = sc.fit_transform(X_train)\n",
        "X_test = sc.transform(X_test)"
      ]
    },
    {
      "cell_type": "code",
      "execution_count": null,
      "metadata": {
        "id": "kqRoLQTmj2L5"
      },
      "outputs": [],
      "source": [
        "logistic_regression = LogisticRegression()\n",
        "\n",
        "# instantiate Logistic Regression model\n",
        "logistic_regression.fit(X_train, y_train)"
      ]
    },
    {
      "cell_type": "code",
      "execution_count": null,
      "metadata": {
        "id": "T6r_d-PJj3oL"
      },
      "outputs": [],
      "source": [
        "# Predict the results\n",
        "pred = logistic_regression.predict(X_test)\n"
      ]
    },
    {
      "cell_type": "code",
      "execution_count": null,
      "metadata": {
        "id": "VT-8qoQWj7wa"
      },
      "outputs": [],
      "source": [
        "print('Coefficients: \\n', logistic_regression.coef_)"
      ]
    },
    {
      "cell_type": "code",
      "execution_count": null,
      "metadata": {
        "id": "zu2tpRk7kA5N"
      },
      "outputs": [],
      "source": [
        "# Calculate and print R^2 and MAE\n",
        "print( 'R^2:', r2_score(y_test, pred))\n",
        "print( 'MAE:', mean_absolute_error(y_test, pred))\n",
        "print('RMSE:', np.sqrt(metrics.mean_squared_error(y_test, pred)))\n",
        "print('MSE:', metrics.mean_squared_error(y_test, pred))\n",
        "print('\\n')"
      ]
    },
    {
      "cell_type": "code",
      "execution_count": null,
      "metadata": {
        "id": "2nscQsnkmfI5"
      },
      "outputs": [],
      "source": [
        "plt.title('Confusion Matrix for Logistic Regression')\n",
        "cm_lr = confusion_matrix(y_test,pred)\n",
        "sns.heatmap(cm_lr,annot=True, fmt=\"d\", cmap=\"YlGnBu\")\n",
        "plt.xlabel('Predicted Values')\n",
        "plt.ylabel('Actual Values')\n",
        "plt.show()"
      ]
    },
    {
      "cell_type": "code",
      "execution_count": null,
      "metadata": {
        "id": "KmCdb6r8kOM2"
      },
      "outputs": [],
      "source": [
        "print('\\nClassification Report of Logistic Regression\\n')\n",
        "print(classification_report(y_test, pred))\n",
        "\n",
        "print(\"Precision score of Logistic Regression:\", precision_score(y_test, pred, average = 'weighted'))\n",
        "print(\"Recall score of Logistic Regression:\", recall_score(y_test, pred, average = 'weighted'))\n",
        "print(\"F1 score of Logistic Regression:\", f1_score(y_test, pred, average = 'weighted'))"
      ]
    },
    {
      "cell_type": "code",
      "execution_count": null,
      "metadata": {
        "id": "oJtG0EPVmsFr"
      },
      "outputs": [],
      "source": [
        "from sklearn.metrics import plot_roc_curve\n",
        "# Plot ROC curve\n",
        "plot_roc_curve(logistic_regression, X_test, y_test)\n",
        "plt.plot([0, 1], [0, 1], 'k--')\n",
        "plt.title('ROC Curve')\n",
        "plt.show()"
      ]
    },
    {
      "cell_type": "markdown",
      "metadata": {
        "id": "pzntS1XNkcbn"
      },
      "source": [
        "### Logistic Regression Model with 5 Features"
      ]
    },
    {
      "cell_type": "code",
      "execution_count": null,
      "metadata": {
        "id": "p3HIxlWqkbt8"
      },
      "outputs": [],
      "source": [
        "# Select 5 Features for aour prediciton model.\n",
        "features = [\n",
        "    'age',\n",
        "    'education_num',\n",
        "    'hours_per_week',\n",
        "    'capital_gain',\n",
        "    'capital_loss'\n",
        "]"
      ]
    },
    {
      "cell_type": "code",
      "execution_count": null,
      "metadata": {
        "id": "BhwiTBopkz0u"
      },
      "outputs": [],
      "source": [
        "# data processing - dropping other data column\n",
        "\n",
        "X2 = data.copy(deep=True)\n",
        "\n",
        "for i in X2:\n",
        "    if i not in features:\n",
        "        # print(i)\n",
        "        X2 = X2.drop([i], axis =1)\n",
        "        \n",
        "y2 = data.income_class\n",
        "X2"
      ]
    },
    {
      "cell_type": "code",
      "execution_count": null,
      "metadata": {
        "id": "dNOY20Jdk1qQ"
      },
      "outputs": [],
      "source": [
        "# Handle N.A data type - replacing with 0. \n",
        "X2 = X2[features].fillna(0).astype(float)"
      ]
    },
    {
      "cell_type": "code",
      "execution_count": null,
      "metadata": {
        "id": "F9VCFzmyk39W"
      },
      "outputs": [],
      "source": [
        "#perform train and test data splits using y and X\n",
        "X_train, X_test, y_train, y_test = train_test_split(X2, y2, test_size=0.2, random_state=1)\n",
        "# confirm we have the right number of train and test data set\n",
        "print( len(X_train), len(X_test), len(y_train), len(y_test) )"
      ]
    },
    {
      "cell_type": "code",
      "execution_count": null,
      "metadata": {
        "id": "j6hA6wlVk6Dk"
      },
      "outputs": [],
      "source": [
        "# Standardize data to make models coeficients interpratable. \n",
        "sc = StandardScaler()\n",
        "X_train = sc.fit_transform(X_train)\n",
        "X_test = sc.transform(X_test)\n",
        "\n",
        "logistic_regression = LogisticRegression()\n",
        "\n",
        "# instantiate Logistic Regression model\n",
        "logistic_regression.fit(X_train, y_train)\n",
        "\n",
        "# Predict the results\n",
        "pred = logistic_regression.predict(X_test)"
      ]
    },
    {
      "cell_type": "code",
      "execution_count": null,
      "metadata": {
        "id": "tSvs8uUXpN3n"
      },
      "outputs": [],
      "source": [
        "# Calculate and print R^2 and MAE\n",
        "print( 'R^2:', r2_score(y_test, pred))\n",
        "print( 'MAE:', mean_absolute_error(y_test, pred))\n",
        "print('RMSE:', np.sqrt(metrics.mean_squared_error(y_test, pred)))\n",
        "print('MSE:', metrics.mean_squared_error(y_test, pred))\n",
        "print('\\n')"
      ]
    },
    {
      "cell_type": "code",
      "execution_count": null,
      "metadata": {
        "id": "oLk5k7lqpITT"
      },
      "outputs": [],
      "source": [
        "plt.title('Confusion Matrix for Logistic Regression')\n",
        "cm_lr = confusion_matrix(y_test,pred)\n",
        "sns.heatmap(cm_lr,annot=True, fmt=\"d\", cmap=\"YlGnBu\")\n",
        "plt.xlabel('Predicted Values')\n",
        "plt.ylabel('Actual Values')\n",
        "plt.show()"
      ]
    },
    {
      "cell_type": "code",
      "execution_count": null,
      "metadata": {
        "id": "1qqhKa61pA8c"
      },
      "outputs": [],
      "source": [
        "from sklearn.metrics import plot_roc_curve\n",
        "# Plot ROC curve\n",
        "plot_roc_curve(logistic_regression, X_test, y_test)\n",
        "plt.plot([0, 1], [0, 1], 'k--')\n",
        "plt.title('ROC Curve')\n",
        "plt.show()"
      ]
    },
    {
      "cell_type": "code",
      "execution_count": null,
      "metadata": {
        "id": "peMCWcOzk7RZ"
      },
      "outputs": [],
      "source": [
        "print('\\nClassification Report of Logistic Regression\\n')\n",
        "print(classification_report(y_test, pred))\n",
        "\n",
        "print(\"Precision score of Logistic Regression:\", precision_score(y_test, pred, average = 'weighted'))\n",
        "print(\"Recall score of Logistic Regression:\", recall_score(y_test, pred, average = 'weighted'))\n",
        "print(\"F1 score of Logistic Regression:\", f1_score(y_test, pred, average = 'weighted'))"
      ]
    },
    {
      "cell_type": "markdown",
      "metadata": {
        "id": "6npdT23YJ6fG"
      },
      "source": [
        "### Adding Categorial Features to the Model"
      ]
    },
    {
      "cell_type": "markdown",
      "metadata": {
        "id": "hlRjfyNcpSYe"
      },
      "source": [
        "<div>In order to consider the categorical features, we use one hot encoder to transform categorical features to binary variables.</div>"
      ]
    },
    {
      "cell_type": "code",
      "execution_count": null,
      "metadata": {
        "id": "MZb0F3bl-2ho"
      },
      "outputs": [],
      "source": [
        "def get_categorical_columns(data, cat_columns=None, fillna=True):\n",
        "    if cat_columns is None:\n",
        "        cat_data = data.select_dtypes('category')\n",
        "    else:\n",
        "        cat_data = data[cat_columns]\n",
        "\n",
        "    if fillna:\n",
        "        for colname, series in cat_data.iteritems():\n",
        "            if 'Other' not in series.cat.categories:\n",
        "                series = series.cat.add_categories(['Other'])\n",
        "\n",
        "            cat_data[colname] = series.fillna('Other')\n",
        "            \n",
        "    return cat_data\n",
        "\n",
        "def features_with_one_hot_encoded_categories(data, cat_columns=None, fillna=True):\n",
        "    cat_data = get_categorical_columns(data, cat_columns, fillna)\n",
        "    one_hot_data = pd.get_dummies(cat_data)\n",
        "    df = pd.concat([data, one_hot_data], axis=1)\n",
        "\n",
        "    features = [\n",
        "        'age',\n",
        "        'education_num',\n",
        "        'hours_per_week',\n",
        "        'capital_gain',\n",
        "        'capital_loss',\n",
        "    ] + one_hot_data.columns.tolist()\n",
        "\n",
        "    X = df[features].fillna(0).values.astype(float)\n",
        "    y = df[target_column].values\n",
        "    \n",
        "    return X, y"
      ]
    },
    {
      "cell_type": "code",
      "execution_count": null,
      "metadata": {
        "id": "MKkojVCL_iG2"
      },
      "outputs": [],
      "source": [
        "train_data = data.copy(deep=True)\n",
        "X3, y3 = features_with_one_hot_encoded_categories(train_data)\n"
      ]
    },
    {
      "cell_type": "code",
      "execution_count": null,
      "metadata": {
        "id": "tMuQFKjQACu4"
      },
      "outputs": [],
      "source": [
        "#perform train and test data splits using y and X\n",
        "X_train, X_test, y_train, y_test = train_test_split(X3, y3, test_size=0.2, random_state=1)\n",
        "# confirm we have the right number of train and test data set\n",
        "print( len(X_train), len(X_test), len(y_train), len(y_test) )"
      ]
    },
    {
      "cell_type": "code",
      "execution_count": null,
      "metadata": {
        "id": "A2eXoGE0ANL5"
      },
      "outputs": [],
      "source": [
        "# Standardize data to make models coeficients interpratable. \n",
        "sc = StandardScaler()\n",
        "X_train = sc.fit_transform(X_train)\n",
        "X_test = sc.transform(X_test)\n",
        "\n",
        "logistic_regression = LogisticRegression()\n",
        "\n",
        "# instantiate Logistic Regression model\n",
        "logistic_regression.fit(X_train, y_train)\n",
        "\n",
        "# Predict the results\n",
        "pred = logistic_regression.predict(X_test)"
      ]
    },
    {
      "cell_type": "code",
      "execution_count": null,
      "metadata": {
        "colab": {
          "background_save": true
        },
        "id": "MdkbcAYEAglz",
        "outputId": "88441134-8d5a-4ff8-b95d-e20f88b352b7"
      },
      "outputs": [
        {
          "name": "stdout",
          "output_type": "stream",
          "text": [
            "R^2: 0.1556792237442921\n",
            "MAE: 0.15721649484536082\n",
            "RMSE: 0.3965053528583956\n",
            "MSE: 0.15721649484536082\n",
            "\n",
            "\n"
          ]
        }
      ],
      "source": [
        "# Calculate and print R^2 and MAE\n",
        "print( 'R^2:', r2_score(y_test, pred))\n",
        "print( 'MAE:', mean_absolute_error(y_test, pred))\n",
        "print('RMSE:', np.sqrt(metrics.mean_squared_error(y_test, pred)))\n",
        "print('MSE:', metrics.mean_squared_error(y_test, pred))\n",
        "print('\\n')"
      ]
    },
    {
      "cell_type": "code",
      "execution_count": null,
      "metadata": {
        "colab": {
          "background_save": true
        },
        "id": "dkMSjrFDAZDh",
        "outputId": "7388f3ee-ee86-4865-ea06-a4866d41fd33"
      },
      "outputs": [
        {
          "name": "stdout",
          "output_type": "stream",
          "text": [
            "\n",
            "Classification Report of Logistic Regression\n",
            "\n",
            "              precision    recall  f1-score   support\n",
            "\n",
            "           0       0.87      0.93      0.90      4380\n",
            "           1       0.73      0.59      0.65      1440\n",
            "\n",
            "    accuracy                           0.84      5820\n",
            "   macro avg       0.80      0.76      0.77      5820\n",
            "weighted avg       0.84      0.84      0.84      5820\n",
            "\n",
            "Precision score of Logistic Regression: 0.8358198945046201\n",
            "Recall score of Logistic Regression: 0.8427835051546392\n",
            "F1 score of Logistic Regression: 0.8368278370301496\n"
          ]
        }
      ],
      "source": [
        "print('\\nClassification Report of Logistic Regression\\n')\n",
        "print(classification_report(y_test, pred))\n",
        "\n",
        "print(\"Precision score of Logistic Regression:\", precision_score(y_test, pred, average = 'weighted'))\n",
        "print(\"Recall score of Logistic Regression:\", recall_score(y_test, pred, average = 'weighted'))\n",
        "print(\"F1 score of Logistic Regression:\", f1_score(y_test, pred, average = 'weighted'))"
      ]
    },
    {
      "cell_type": "code",
      "execution_count": null,
      "metadata": {
        "colab": {
          "background_save": true,
          "base_uri": "https://localhost:8080/",
          "height": 504
        },
        "id": "Vh6s6xV6AjoO",
        "outputId": "aa2ce5eb-5876-47f7-f16e-31738bea55cb"
      },
      "outputs": [
        {
          "data": {
            "image/png": "[encoded data removed]",
            "text/plain": [
              "<Figure size 432x288 with 2 Axes>"
            ]
          },
          "metadata": {},
          "output_type": "display_data"
        }
      ],
      "source": [
        "plt.title('Confusion Matrix for Logistic Regression')\n",
        "cm_lr = confusion_matrix(y_test,pred)\n",
        "sns.heatmap(cm_lr,annot=True, fmt=\"d\", cmap=\"YlGnBu\")\n",
        "plt.xlabel('Predicted Values')\n",
        "plt.ylabel('Actual Values')\n",
        "plt.show()"
      ]
    },
    {
      "cell_type": "code",
      "execution_count": null,
      "metadata": {
        "colab": {
          "background_save": true
        },
        "id": "1lEXmVD9An_b",
        "outputId": "22055504-e1d2-454b-82ff-b72b0f8fb548"
      },
      "outputs": [
        {
          "name": "stderr",
          "output_type": "stream",
          "text": [
            "/usr/local/lib/python3.7/dist-packages/sklearn/utils/deprecation.py:87: FutureWarning: Function plot_roc_curve is deprecated; Function :func:`plot_roc_curve` is deprecated in 1.0 and will be removed in 1.2. Use one of the class methods: :meth:`sklearn.metric.RocCurveDisplay.from_predictions` or :meth:`sklearn.metric.RocCurveDisplay.from_estimator`.\n",
            "  warnings.warn(msg, category=FutureWarning)\n"
          ]
        },
        {
          "data": {
            "image/png": "[encoded data removed]",
            "text/plain": [
              "<Figure size 432x288 with 1 Axes>"
            ]
          },
          "metadata": {},
          "output_type": "display_data"
        }
      ],
      "source": [
        "from sklearn.metrics import plot_roc_curve\n",
        "# Plot ROC curve\n",
        "plot_roc_curve(logistic_regression, X_test, y_test)\n",
        "plt.plot([0, 1], [0, 1], 'k--')\n",
        "plt.title('ROC Curve')\n",
        "plt.show()"
      ]
    },
    {
      "cell_type": "markdown",
      "metadata": {
        "id": "ud7LfjIbKDps"
      },
      "source": [
        "## Support Vector Machine"
      ]
    },
    {
      "cell_type": "markdown",
      "metadata": {
        "id": "hJTq2uoA8BQs"
      },
      "source": [
        "### SVM with 3 features"
      ]
    },
    {
      "cell_type": "code",
      "execution_count": null,
      "metadata": {
        "id": "BZD6ROEkPYE3"
      },
      "outputs": [],
      "source": [
        "X_train_svm, X_test_svm, y_train_svm, y_test_svm = train_test_split(X1.sample(n = 100, replace = False), \n",
        "                                                                    y1.sample(n = 100, replace = False), \n",
        "                                                                    test_size=0.2, \n",
        "                                                                    random_state=1)"
      ]
    },
    {
      "cell_type": "code",
      "execution_count": null,
      "metadata": {
        "colab": {
          "base_uri": "https://localhost:8080/"
        },
        "id": "KfluEPvBFB6e",
        "outputId": "fc32b448-d533-4adb-d827-48dab0aae570"
      },
      "outputs": [
        {
          "name": "stdout",
          "output_type": "stream",
          "text": [
            "{'C': 0.1, 'degree': 1, 'kernel': 'rbf'}\n"
          ]
        }
      ],
      "source": [
        "from sklearn.svm import SVC\n",
        "from sklearn.model_selection import GridSearchCV\n",
        "\n",
        "# Creating various SVC models to tune the hyperparameters\n",
        "# Parameters used for hypertuning\n",
        "parameters = {'C': [0.1, 1, 10, 100, 1000], 'kernel': ['rbf', 'poly', 'sigmoid', 'linear'], 'degree': [1, 2, 3, 4]}\n",
        "\n",
        "# Initializes Grid with the classifier used, and the parameters to hypertune\n",
        "grid = GridSearchCV(SVC(), parameters)\n",
        "\n",
        "# Trains the models with training data and finds best model\n",
        "grid.fit(X_train_svm, y_train_svm)\n",
        "\n",
        "# Hypertuned parameters along with the resulting accuracy\n",
        "print(grid.best_params_)"
      ]
    },
    {
      "cell_type": "code",
      "execution_count": null,
      "metadata": {
        "colab": {
          "base_uri": "https://localhost:8080/"
        },
        "id": "7PsVBHRLCPxy",
        "outputId": "33271844-28c0-4e8d-820f-fe8f050c2e7a"
      },
      "outputs": [
        {
          "name": "stderr",
          "output_type": "stream",
          "text": [
            "/usr/local/lib/python3.7/dist-packages/sklearn/base.py:451: UserWarning: X does not have valid feature names, but SVC was fitted with feature names\n",
            "  \"X does not have valid feature names, but\"\n"
          ]
        },
        {
          "data": {
            "text/plain": [
              "0.75"
            ]
          },
          "execution_count": 75,
          "metadata": {},
          "output_type": "execute_result"
        }
      ],
      "source": [
        "from sklearn.metrics import accuracy_score\n",
        "y_pred_svm = grid.predict(np.array(X_test_svm))\n",
        "accuracy_score(y_pred_svm, y_test_svm)"
      ]
    },
    {
      "cell_type": "code",
      "execution_count": null,
      "metadata": {
        "colab": {
          "base_uri": "https://localhost:8080/",
          "height": 365
        },
        "id": "mDev08fLLQiM",
        "outputId": "c7efb8d4-6aa7-4967-f98d-303c091b2048"
      },
      "outputs": [
        {
          "ename": "AttributeError",
          "evalue": "ignored",
          "output_type": "error",
          "traceback": [
            "\u001b[0;31m---------------------------------------------------------------------------\u001b[0m",
            "\u001b[0;31mAttributeError\u001b[0m                            Traceback (most recent call last)",
            "\u001b[0;32m<ipython-input-76-94a5355e94b1>\u001b[0m in \u001b[0;36m<module>\u001b[0;34m\u001b[0m\n\u001b[1;32m      1\u001b[0m \u001b[0;31m# Works if the kernel is linear\u001b[0m\u001b[0;34m\u001b[0m\u001b[0;34m\u001b[0m\u001b[0;34m\u001b[0m\u001b[0m\n\u001b[0;32m----> 2\u001b[0;31m \u001b[0mimportance\u001b[0m \u001b[0;34m=\u001b[0m \u001b[0mgrid\u001b[0m\u001b[0;34m.\u001b[0m\u001b[0mbest_estimator_\u001b[0m\u001b[0;34m.\u001b[0m\u001b[0mcoef_\u001b[0m\u001b[0;34m[\u001b[0m\u001b[0;36m0\u001b[0m\u001b[0;34m]\u001b[0m\u001b[0;34m\u001b[0m\u001b[0;34m\u001b[0m\u001b[0m\n\u001b[0m\u001b[1;32m      3\u001b[0m \u001b[0mfeature_names\u001b[0m \u001b[0;34m=\u001b[0m \u001b[0mgrid\u001b[0m\u001b[0;34m.\u001b[0m\u001b[0mbest_estimator_\u001b[0m\u001b[0;34m.\u001b[0m\u001b[0mfeature_names_in_\u001b[0m\u001b[0;34m\u001b[0m\u001b[0;34m\u001b[0m\u001b[0m\n\u001b[1;32m      4\u001b[0m \u001b[0;32mfor\u001b[0m \u001b[0mi\u001b[0m\u001b[0;34m,\u001b[0m\u001b[0mv\u001b[0m \u001b[0;32min\u001b[0m \u001b[0menumerate\u001b[0m\u001b[0;34m(\u001b[0m\u001b[0mimportance\u001b[0m\u001b[0;34m)\u001b[0m\u001b[0;34m:\u001b[0m\u001b[0;34m\u001b[0m\u001b[0;34m\u001b[0m\u001b[0m\n\u001b[1;32m      5\u001b[0m     \u001b[0mprint\u001b[0m\u001b[0;34m(\u001b[0m\u001b[0;34m'Feature: '\u001b[0m \u001b[0;34m+\u001b[0m \u001b[0mfeature_names\u001b[0m\u001b[0;34m[\u001b[0m\u001b[0mi\u001b[0m\u001b[0;34m]\u001b[0m \u001b[0;34m+\u001b[0m \u001b[0;34m', Score: %.5f'\u001b[0m \u001b[0;34m%\u001b[0m \u001b[0mv\u001b[0m\u001b[0;34m)\u001b[0m\u001b[0;34m\u001b[0m\u001b[0;34m\u001b[0m\u001b[0m\n",
            "\u001b[0;32m/usr/local/lib/python3.7/dist-packages/sklearn/svm/_base.py\u001b[0m in \u001b[0;36mcoef_\u001b[0;34m(self)\u001b[0m\n\u001b[1;32m    635\u001b[0m         \"\"\"\n\u001b[1;32m    636\u001b[0m         \u001b[0;32mif\u001b[0m \u001b[0mself\u001b[0m\u001b[0;34m.\u001b[0m\u001b[0mkernel\u001b[0m \u001b[0;34m!=\u001b[0m \u001b[0;34m\"linear\"\u001b[0m\u001b[0;34m:\u001b[0m\u001b[0;34m\u001b[0m\u001b[0;34m\u001b[0m\u001b[0m\n\u001b[0;32m--> 637\u001b[0;31m             \u001b[0;32mraise\u001b[0m \u001b[0mAttributeError\u001b[0m\u001b[0;34m(\u001b[0m\u001b[0;34m\"coef_ is only available when using a linear kernel\"\u001b[0m\u001b[0;34m)\u001b[0m\u001b[0;34m\u001b[0m\u001b[0;34m\u001b[0m\u001b[0m\n\u001b[0m\u001b[1;32m    638\u001b[0m \u001b[0;34m\u001b[0m\u001b[0m\n\u001b[1;32m    639\u001b[0m         \u001b[0mcoef\u001b[0m \u001b[0;34m=\u001b[0m \u001b[0mself\u001b[0m\u001b[0;34m.\u001b[0m\u001b[0m_get_coef\u001b[0m\u001b[0;34m(\u001b[0m\u001b[0;34m)\u001b[0m\u001b[0;34m\u001b[0m\u001b[0;34m\u001b[0m\u001b[0m\n",
            "\u001b[0;31mAttributeError\u001b[0m: coef_ is only available when using a linear kernel"
          ]
        }
      ],
      "source": [
        "# Works if the kernel is linear\n",
        "importance = grid.best_estimator_.coef_[0]\n",
        "feature_names = grid.best_estimator_.feature_names_in_\n",
        "for i,v in enumerate(importance):\n",
        "    print('Feature: ' + feature_names[i] + ', Score: %.5f' % v)\n",
        "# plot feature importance\n",
        "plt.bar([x for x in range(len(importance))], importance)\n",
        "plt.show()"
      ]
    },
    {
      "cell_type": "markdown",
      "metadata": {
        "id": "9JLSAKMzK2CC"
      },
      "source": [
        "### SVM with 5 features"
      ]
    },
    {
      "cell_type": "code",
      "execution_count": null,
      "metadata": {
        "id": "GV_cBKfqK2CI"
      },
      "outputs": [],
      "source": [
        "X_train_svm, X_test_svm, y_train_svm, y_test_svm = train_test_split(X2.sample(n = 100, replace = False), \n",
        "                                                                    y2.sample(n = 100, replace = False), \n",
        "                                                                    test_size=0.2, \n",
        "                                                                    random_state=1)"
      ]
    },
    {
      "cell_type": "code",
      "execution_count": null,
      "metadata": {
        "id": "8cynvp98K2CJ"
      },
      "outputs": [],
      "source": [
        "from sklearn.svm import SVC\n",
        "from sklearn.model_selection import GridSearchCV\n",
        "\n",
        "# Creating various SVC models to tune the hyperparameters\n",
        "# Parameters used for hypertuning\n",
        "parameters = {'C': [0.1, 1, 10, 100, 1000], 'kernel': ['rbf', 'poly', 'sigmoid', 'linear'], 'degree': [1, 2, 3, 4]}\n",
        "\n",
        "# Initializes Grid with the classifier used, and the parameters to hypertune\n",
        "grid = GridSearchCV(SVC(), parameters)\n",
        "\n",
        "# Trains the models with training data and finds best model\n",
        "grid.fit(X_train_svm, y_train_svm)\n",
        "\n",
        "# Hypertuned parameters along with the resulting accuracy\n",
        "print(grid.best_params_)"
      ]
    },
    {
      "cell_type": "code",
      "execution_count": null,
      "metadata": {
        "colab": {
          "base_uri": "https://localhost:8080/"
        },
        "id": "_22uMEvUK2CJ",
        "outputId": "33271844-28c0-4e8d-820f-fe8f050c2e7a"
      },
      "outputs": [
        {
          "name": "stderr",
          "output_type": "stream",
          "text": [
            "/usr/local/lib/python3.7/dist-packages/sklearn/base.py:451: UserWarning: X does not have valid feature names, but SVC was fitted with feature names\n",
            "  \"X does not have valid feature names, but\"\n"
          ]
        },
        {
          "data": {
            "text/plain": [
              "0.75"
            ]
          },
          "execution_count": 75,
          "metadata": {},
          "output_type": "execute_result"
        }
      ],
      "source": [
        "from sklearn.metrics import accuracy_score\n",
        "y_pred_svm = grid.predict(np.array(X_test_svm))\n",
        "accuracy_score(y_pred_svm, y_test_svm)"
      ]
    },
    {
      "cell_type": "code",
      "execution_count": null,
      "metadata": {
        "colab": {
          "base_uri": "https://localhost:8080/",
          "height": 365
        },
        "id": "jBTbAUiiK2CJ",
        "outputId": "c7efb8d4-6aa7-4967-f98d-303c091b2048"
      },
      "outputs": [
        {
          "ename": "AttributeError",
          "evalue": "ignored",
          "output_type": "error",
          "traceback": [
            "\u001b[0;31m---------------------------------------------------------------------------\u001b[0m",
            "\u001b[0;31mAttributeError\u001b[0m                            Traceback (most recent call last)",
            "\u001b[0;32m<ipython-input-76-94a5355e94b1>\u001b[0m in \u001b[0;36m<module>\u001b[0;34m\u001b[0m\n\u001b[1;32m      1\u001b[0m \u001b[0;31m# Works if the kernel is linear\u001b[0m\u001b[0;34m\u001b[0m\u001b[0;34m\u001b[0m\u001b[0;34m\u001b[0m\u001b[0m\n\u001b[0;32m----> 2\u001b[0;31m \u001b[0mimportance\u001b[0m \u001b[0;34m=\u001b[0m \u001b[0mgrid\u001b[0m\u001b[0;34m.\u001b[0m\u001b[0mbest_estimator_\u001b[0m\u001b[0;34m.\u001b[0m\u001b[0mcoef_\u001b[0m\u001b[0;34m[\u001b[0m\u001b[0;36m0\u001b[0m\u001b[0;34m]\u001b[0m\u001b[0;34m\u001b[0m\u001b[0;34m\u001b[0m\u001b[0m\n\u001b[0m\u001b[1;32m      3\u001b[0m \u001b[0mfeature_names\u001b[0m \u001b[0;34m=\u001b[0m \u001b[0mgrid\u001b[0m\u001b[0;34m.\u001b[0m\u001b[0mbest_estimator_\u001b[0m\u001b[0;34m.\u001b[0m\u001b[0mfeature_names_in_\u001b[0m\u001b[0;34m\u001b[0m\u001b[0;34m\u001b[0m\u001b[0m\n\u001b[1;32m      4\u001b[0m \u001b[0;32mfor\u001b[0m \u001b[0mi\u001b[0m\u001b[0;34m,\u001b[0m\u001b[0mv\u001b[0m \u001b[0;32min\u001b[0m \u001b[0menumerate\u001b[0m\u001b[0;34m(\u001b[0m\u001b[0mimportance\u001b[0m\u001b[0;34m)\u001b[0m\u001b[0;34m:\u001b[0m\u001b[0;34m\u001b[0m\u001b[0;34m\u001b[0m\u001b[0m\n\u001b[1;32m      5\u001b[0m     \u001b[0mprint\u001b[0m\u001b[0;34m(\u001b[0m\u001b[0;34m'Feature: '\u001b[0m \u001b[0;34m+\u001b[0m \u001b[0mfeature_names\u001b[0m\u001b[0;34m[\u001b[0m\u001b[0mi\u001b[0m\u001b[0;34m]\u001b[0m \u001b[0;34m+\u001b[0m \u001b[0;34m', Score: %.5f'\u001b[0m \u001b[0;34m%\u001b[0m \u001b[0mv\u001b[0m\u001b[0;34m)\u001b[0m\u001b[0;34m\u001b[0m\u001b[0;34m\u001b[0m\u001b[0m\n",
            "\u001b[0;32m/usr/local/lib/python3.7/dist-packages/sklearn/svm/_base.py\u001b[0m in \u001b[0;36mcoef_\u001b[0;34m(self)\u001b[0m\n\u001b[1;32m    635\u001b[0m         \"\"\"\n\u001b[1;32m    636\u001b[0m         \u001b[0;32mif\u001b[0m \u001b[0mself\u001b[0m\u001b[0;34m.\u001b[0m\u001b[0mkernel\u001b[0m \u001b[0;34m!=\u001b[0m \u001b[0;34m\"linear\"\u001b[0m\u001b[0;34m:\u001b[0m\u001b[0;34m\u001b[0m\u001b[0;34m\u001b[0m\u001b[0m\n\u001b[0;32m--> 637\u001b[0;31m             \u001b[0;32mraise\u001b[0m \u001b[0mAttributeError\u001b[0m\u001b[0;34m(\u001b[0m\u001b[0;34m\"coef_ is only available when using a linear kernel\"\u001b[0m\u001b[0;34m)\u001b[0m\u001b[0;34m\u001b[0m\u001b[0;34m\u001b[0m\u001b[0m\n\u001b[0m\u001b[1;32m    638\u001b[0m \u001b[0;34m\u001b[0m\u001b[0m\n\u001b[1;32m    639\u001b[0m         \u001b[0mcoef\u001b[0m \u001b[0;34m=\u001b[0m \u001b[0mself\u001b[0m\u001b[0;34m.\u001b[0m\u001b[0m_get_coef\u001b[0m\u001b[0;34m(\u001b[0m\u001b[0;34m)\u001b[0m\u001b[0;34m\u001b[0m\u001b[0;34m\u001b[0m\u001b[0m\n",
            "\u001b[0;31mAttributeError\u001b[0m: coef_ is only available when using a linear kernel"
          ]
        }
      ],
      "source": [
        "# Works if the kernel is linear\n",
        "importance = grid.best_estimator_.coef_[0]\n",
        "feature_names = grid.best_estimator_.feature_names_in_\n",
        "for i,v in enumerate(importance):\n",
        "    print('Feature: ' + feature_names[i] + ', Score: %.5f' % v)\n",
        "# plot feature importance\n",
        "plt.bar([x for x in range(len(importance))], importance)\n",
        "plt.show()"
      ]
    },
    {
      "cell_type": "code",
      "execution_count": null,
      "metadata": {
        "id": "13mxAS9sK2CJ"
      },
      "outputs": [],
      "source": []
    },
    {
      "cell_type": "code",
      "execution_count": null,
      "metadata": {
        "id": "oZssBRYwZvik"
      },
      "outputs": [],
      "source": []
    }
  ],
  "metadata": {
    "colab": {
      "collapsed_sections": [
        "pzntS1XNkcbn",
        "6npdT23YJ6fG",
        "hJTq2uoA8BQs",
        "9JLSAKMzK2CC"
      ],
      "toc_visible": true,
      "provenance": []
    },
    "kernelspec": {
      "display_name": "Python 3",
      "name": "python3"
    },
    "language_info": {
      "name": "python"
    }
  },
  "nbformat": 4,
  "nbformat_minor": 0
}